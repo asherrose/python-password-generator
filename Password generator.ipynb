{
 "cells": [
  {
   "cell_type": "code",
   "execution_count": 1,
   "metadata": {},
   "outputs": [],
   "source": [
    "import sys\n",
    "import random"
   ]
  },
  {
   "cell_type": "code",
   "execution_count": 2,
   "metadata": {},
   "outputs": [
    {
     "name": "stdout",
     "output_type": "stream",
     "text": [
      "Enter length of password: 6\n"
     ]
    }
   ],
   "source": [
    "length = int(input(\"Enter length of password: \"))"
   ]
  },
  {
   "cell_type": "code",
   "execution_count": 3,
   "metadata": {},
   "outputs": [
    {
     "name": "stdout",
     "output_type": "stream",
     "text": [
      "Enter number of letters: 5\n"
     ]
    }
   ],
   "source": [
    "letters = int(input(\"Enter number of letters: \"))"
   ]
  },
  {
   "cell_type": "code",
   "execution_count": 4,
   "metadata": {},
   "outputs": [
    {
     "name": "stdout",
     "output_type": "stream",
     "text": [
      "Enter number of numbers and symbols: 1\n"
     ]
    }
   ],
   "source": [
    "numbers = int(input(\"Enter number of numbers and symbols: \"))"
   ]
  },
  {
   "cell_type": "code",
   "execution_count": 5,
   "metadata": {},
   "outputs": [],
   "source": [
    "if numbers+letters!=length:\n",
    "    print(\"Numbers plus letters don't equal length\")\n",
    "    sys.exit()"
   ]
  },
  {
   "cell_type": "code",
   "execution_count": 6,
   "metadata": {},
   "outputs": [],
   "source": [
    "letters_count = 0\n",
    "numbers_count = 0\n",
    "password=\"\""
   ]
  },
  {
   "cell_type": "code",
   "execution_count": 7,
   "metadata": {},
   "outputs": [],
   "source": [
    "while letters_count!=letters or numbers_count!=numbers:\n",
    "    pick = random.randrange(33, 126)\n",
    "    if (pick>=33 and pick<=64) or (pick>=91 and pick<=96) or (pick>=123 and pick<=126):\n",
    "        if numbers_count==numbers:\n",
    "            continue\n",
    "        numbers_count+=1\n",
    "    else:\n",
    "        if letters_count==letters:\n",
    "            continue\n",
    "        letters_count+=1\n",
    "    pick_char = chr(pick)\n",
    "    password+=pick_char"
   ]
  },
  {
   "cell_type": "code",
   "execution_count": 8,
   "metadata": {},
   "outputs": [
    {
     "name": "stdout",
     "output_type": "stream",
     "text": [
      "Password created, it's  BY+qgO\n"
     ]
    }
   ],
   "source": [
    "print(\"Password created, it's \",password)"
   ]
  },
  {
   "cell_type": "code",
   "execution_count": null,
   "metadata": {},
   "outputs": [],
   "source": []
  }
 ],
 "metadata": {
  "kernelspec": {
   "display_name": "Python 3",
   "language": "python",
   "name": "python3"
  },
  "language_info": {
   "codemirror_mode": {
    "name": "ipython",
    "version": 3
   },
   "file_extension": ".py",
   "mimetype": "text/x-python",
   "name": "python",
   "nbconvert_exporter": "python",
   "pygments_lexer": "ipython3",
   "version": "3.7.3"
  }
 },
 "nbformat": 4,
 "nbformat_minor": 2
}
